{
 "cells": [
  {
   "cell_type": "code",
   "execution_count": 64,
   "metadata": {},
   "outputs": [],
   "source": [
    "#!/usr/bin/env python3\n",
    "\n",
    "\"\"\"\n",
    "- Script name: scu.projectDrones.annotationConverter\n",
    "- Author: Dan Bright, cosmoid@tuta.io\n",
    "- License: Free & Open Source, GPLv3.\n",
    "- Description: A script to convert formatting of annotations from spaCy to GPT\n",
    "\"\"\"\n",
    "\n",
    "import os, json, io\n",
    "from dotenv import load_dotenv\n",
    "\n",
    "load_dotenv()\n",
    "\n",
    "OPENAI_API_KEY = os.getenv(\"OPENAI_API_KEY\")"
   ]
  },
  {
   "cell_type": "code",
   "execution_count": 66,
   "metadata": {},
   "outputs": [],
   "source": [
    "def read_json_files(directory_path: str) -> list[dict]:\n",
    "    \"\"\"Read all JSON files in the given directory and return their contents\n",
    "    as a list of python dictionaries.\"\"\"\n",
    "    annotations: list[dict] = []\n",
    "    for filename in os.listdir(directory_path):\n",
    "        if filename.endswith(\".json\"):\n",
    "            with open(os.path.join(directory_path, filename), \"r\") as file:\n",
    "                annotations.append(json.load(file))\n",
    "    return annotations"
   ]
  },
  {
   "cell_type": "code",
   "execution_count": 67,
   "metadata": {},
   "outputs": [],
   "source": [
    "def convert_to_gpt(spacy_annotations: list[dict]) -> list[dict]:\n",
    "    gpt_annotations: list[dict] = []\n",
    "    prompt_separator: str = \"\\n\\n###\\n\\n\"\n",
    "    completion_separator: str = \"END\"\n",
    "    ent_class_separator: str = \"\\n\"\n",
    "    no_entity_token: str = \"NULL\"\n",
    "    for doc in spacy_annotations:\n",
    "        entity_classes: list = doc[\"classes\"]\n",
    "        for annotations in doc[\"annotations\"]:\n",
    "            if annotations:\n",
    "                prompt: str = annotations[0]\n",
    "                entities: list[list] = annotations[1][\"entities\"]\n",
    "                completion: str = \"\"\n",
    "                for cls in entity_classes:\n",
    "                    if cls not in [e[2] for e in entities]:\n",
    "                        completion += (\n",
    "                            f\"{cls}:['{no_entity_token}']{ent_class_separator}\"\n",
    "                        )\n",
    "                        pass\n",
    "                    else:\n",
    "                        tokens: list[str] = []\n",
    "                        for ent in entities:\n",
    "                            if cls == ent[2]:\n",
    "                                tokens.append(prompt[ent[0] : ent[1]])\n",
    "                        tokens_str: str = \",\".join([f\"'{token}'\" for token in tokens])\n",
    "                        cls_completion: str = (\n",
    "                            f\"{cls}:[{tokens_str}]{ent_class_separator}\"\n",
    "                        )\n",
    "                        completion += cls_completion\n",
    "                gpt_annotations.append(\n",
    "                    {\n",
    "                        \"prompt\": f\"{prompt}{prompt_separator}\",\n",
    "                        \"completion\": f\" {completion} {completion_separator}\",\n",
    "                    }\n",
    "                )\n",
    "    return gpt_annotations"
   ]
  },
  {
   "cell_type": "code",
   "execution_count": 68,
   "metadata": {},
   "outputs": [],
   "source": [
    "def write_to_file(annotations: list[dict], tmp_file: str, output_file: str) -> None:\n",
    "    print(annotations)\n",
    "    with open(output_file, \"w\") as f:\n",
    "        for a in annotations:\n",
    "            json.dump(a, f)\n",
    "            f.write(\"\\n\")"
   ]
  },
  {
   "cell_type": "code",
   "execution_count": 69,
   "metadata": {},
   "outputs": [
    {
     "name": "stdout",
     "output_type": "stream",
     "text": [
      "[{'prompt': 'PRELIM INFO FROM FAA OPS: SAVANNAH, GA / UAS INCIDENT / 1133E / E-ROC ADVISED  PIPER P28A REPORTED A BLACK QUAD COPTER UAS WHILE S BOUND AT 1,200 FEET 4 NW SAV. NO EVASIVE ACTION TAKEN. LEO NOTIFICATION NOT REPORTED. \\n\\n###\\n\\n', 'completion': \" ATC_CITY:['SAVANNAH']\\nATC_STATE:['GA']\\nICDT_DATE:['NULL']\\nICDT_TIME:['1133E']\\nICDT_LOC:['4 NW SAV.']\\nUAS_COLOR:['BLACK']\\nUAS_HEADING:['NULL']\\nUAS_SIZE:['NULL']\\nUAS_REL_ALT:['NULL']\\nUAS_ACT_ALT:['NULL']\\nAC_ALT:['1,200 FEET']\\nAC_TYPE:['PIPER P28A']\\nAC_HEADING:['S BOUND']\\nFT_ID:['NULL']\\nFT_OPTOR:['NULL']\\nUAS_TYPE:['QUAD COPTER']\\n END\"}, {'prompt': 'UAS MOR Alert for SAV\\n\\n###\\n\\n', 'completion': \" ATC_CITY:['NULL']\\nATC_STATE:['NULL']\\nICDT_DATE:['NULL']\\nICDT_TIME:['NULL']\\nICDT_LOC:['NULL']\\nUAS_COLOR:['NULL']\\nUAS_HEADING:['NULL']\\nUAS_SIZE:['NULL']\\nUAS_REL_ALT:['NULL']\\nUAS_ACT_ALT:['NULL']\\nAC_ALT:['NULL']\\nAC_TYPE:['NULL']\\nAC_HEADING:['NULL']\\nFT_ID:['NULL']\\nFT_OPTOR:['NULL']\\nUAS_TYPE:['NULL']\\n END\"}, {'prompt': 'Number: SAV-M-2019 / 07 / 04-0001\\n\\n###\\n\\n', 'completion': \" ATC_CITY:['NULL']\\nATC_STATE:['NULL']\\nICDT_DATE:['NULL']\\nICDT_TIME:['NULL']\\nICDT_LOC:['NULL']\\nUAS_COLOR:['NULL']\\nUAS_HEADING:['NULL']\\nUAS_SIZE:['NULL']\\nUAS_REL_ALT:['NULL']\\nUAS_ACT_ALT:['NULL']\\nAC_ALT:['NULL']\\nAC_TYPE:['NULL']\\nAC_HEADING:['NULL']\\nFT_ID:['NULL']\\nFT_OPTOR:['NULL']\\nUAS_TYPE:['NULL']\\n END\"}, {'prompt': 'Type: Hazardous and / or Unauthorized UAS Activity\\n\\n###\\n\\n', 'completion': \" ATC_CITY:['NULL']\\nATC_STATE:['NULL']\\nICDT_DATE:['NULL']\\nICDT_TIME:['NULL']\\nICDT_LOC:['NULL']\\nUAS_COLOR:['NULL']\\nUAS_HEADING:['NULL']\\nUAS_SIZE:['NULL']\\nUAS_REL_ALT:['NULL']\\nUAS_ACT_ALT:['NULL']\\nAC_ALT:['NULL']\\nAC_TYPE:['NULL']\\nAC_HEADING:['NULL']\\nFT_ID:['NULL']\\nFT_OPTOR:['NULL']\\nUAS_TYPE:['NULL']\\n END\"}, {'prompt': 'Date / Time: Jul 4, 2019 - 1533Z\\n\\n###\\n\\n', 'completion': \" ATC_CITY:['NULL']\\nATC_STATE:['NULL']\\nICDT_DATE:['Jul 4, 2019']\\nICDT_TIME:['1533Z']\\nICDT_LOC:['NULL']\\nUAS_COLOR:['NULL']\\nUAS_HEADING:['NULL']\\nUAS_SIZE:['NULL']\\nUAS_REL_ALT:['NULL']\\nUAS_ACT_ALT:['NULL']\\nAC_ALT:['NULL']\\nAC_TYPE:['NULL']\\nAC_HEADING:['NULL']\\nFT_ID:['NULL']\\nFT_OPTOR:['NULL']\\nUAS_TYPE:['NULL']\\n END\"}, {'prompt': 'A / C: (P28A)\\n\\n###\\n\\n', 'completion': \" ATC_CITY:['NULL']\\nATC_STATE:['NULL']\\nICDT_DATE:['NULL']\\nICDT_TIME:['NULL']\\nICDT_LOC:['NULL']\\nUAS_COLOR:['NULL']\\nUAS_HEADING:['NULL']\\nUAS_SIZE:['NULL']\\nUAS_REL_ALT:['NULL']\\nUAS_ACT_ALT:['NULL']\\nAC_ALT:['NULL']\\nAC_TYPE:['P28A']\\nAC_HEADING:['NULL']\\nFT_ID:['NULL']\\nFT_OPTOR:['NULL']\\nUAS_TYPE:['NULL']\\n END\"}, {'prompt': 'Summary: P28A in the tower pattern reported drone activity 5 northwest of SAV airport approximately 1200 feet. Subsequent reports from multiple arrivals on final for runway 10 approximately 4-5 miles 1000-1200 feet. No TCAS RA.\\n\\n###\\n\\n', 'completion': \" ATC_CITY:['NULL']\\nATC_STATE:['NULL']\\nICDT_DATE:['NULL']\\nICDT_TIME:['NULL']\\nICDT_LOC:['5 northwest of SAV airport']\\nUAS_COLOR:['NULL']\\nUAS_HEADING:['NULL']\\nUAS_SIZE:['NULL']\\nUAS_REL_ALT:['NULL']\\nUAS_ACT_ALT:['approximately 1200 feet.']\\nAC_ALT:['NULL']\\nAC_TYPE:['P28A']\\nAC_HEADING:['NULL']\\nFT_ID:['NULL']\\nFT_OPTOR:['NULL']\\nUAS_TYPE:['NULL']\\n END\"}, {'prompt': 'PRELIM INFO FROM FAA OPS: ALMA, GA / UAS INCIDENT / 1230E / ZJX ADVISED USAF PISTN71, KC35, AT BLOCK ALTITUDE FL260-280 REPORTED A 3-4 METER, BLACK AND WHITE UAS, HEADING SE BOUND AT 2,000 FEET ABOVE THEM 30 E AMG. NO EVASIVE ACTION TAKEN. GEORGIA STATE PATROL 912-261-3990 NOTIFIED. \\n\\n###\\n\\n', 'completion': \" ATC_CITY:['ALMA']\\nATC_STATE:['GA']\\nICDT_DATE:['NULL']\\nICDT_TIME:['1230E']\\nICDT_LOC:['30 E AMG.']\\nUAS_COLOR:['BLACK','WHITE']\\nUAS_HEADING:['SE']\\nUAS_SIZE:['3-4 METER']\\nUAS_REL_ALT:['2,000 FEET ABOVE']\\nUAS_ACT_ALT:['NULL']\\nAC_ALT:['FL260-280']\\nAC_TYPE:['KC35']\\nAC_HEADING:['NULL']\\nFT_ID:['PISTN71']\\nFT_OPTOR:['USAF']\\nUAS_TYPE:['NULL']\\n END\"}, {'prompt': 'MOR Alert for ZJX\\n\\n###\\n\\n', 'completion': \" ATC_CITY:['NULL']\\nATC_STATE:['NULL']\\nICDT_DATE:['NULL']\\nICDT_TIME:['NULL']\\nICDT_LOC:['NULL']\\nUAS_COLOR:['NULL']\\nUAS_HEADING:['NULL']\\nUAS_SIZE:['NULL']\\nUAS_REL_ALT:['NULL']\\nUAS_ACT_ALT:['NULL']\\nAC_ALT:['NULL']\\nAC_TYPE:['NULL']\\nAC_HEADING:['NULL']\\nFT_ID:['NULL']\\nFT_OPTOR:['NULL']\\nUAS_TYPE:['NULL']\\n END\"}, {'prompt': 'Number: ZJX-M-2015 / 05 / 11-0002\\n\\n###\\n\\n', 'completion': \" ATC_CITY:['NULL']\\nATC_STATE:['NULL']\\nICDT_DATE:['NULL']\\nICDT_TIME:['NULL']\\nICDT_LOC:['NULL']\\nUAS_COLOR:['NULL']\\nUAS_HEADING:['NULL']\\nUAS_SIZE:['NULL']\\nUAS_REL_ALT:['NULL']\\nUAS_ACT_ALT:['NULL']\\nAC_ALT:['NULL']\\nAC_TYPE:['NULL']\\nAC_HEADING:['NULL']\\nFT_ID:['NULL']\\nFT_OPTOR:['NULL']\\nUAS_TYPE:['NULL']\\n END\"}, {'prompt': 'Type: Other\\n\\n###\\n\\n', 'completion': \" ATC_CITY:['NULL']\\nATC_STATE:['NULL']\\nICDT_DATE:['NULL']\\nICDT_TIME:['NULL']\\nICDT_LOC:['NULL']\\nUAS_COLOR:['NULL']\\nUAS_HEADING:['NULL']\\nUAS_SIZE:['NULL']\\nUAS_REL_ALT:['NULL']\\nUAS_ACT_ALT:['NULL']\\nAC_ALT:['NULL']\\nAC_TYPE:['NULL']\\nAC_HEADING:['NULL']\\nFT_ID:['NULL']\\nFT_OPTOR:['NULL']\\nUAS_TYPE:['NULL']\\n END\"}, {'prompt': 'Date / Time: May 11, 2015 - 1630Z\\n\\n###\\n\\n', 'completion': \" ATC_CITY:['NULL']\\nATC_STATE:['NULL']\\nICDT_DATE:['May 11, 2015']\\nICDT_TIME:['1630Z']\\nICDT_LOC:['NULL']\\nUAS_COLOR:['NULL']\\nUAS_HEADING:['NULL']\\nUAS_SIZE:['NULL']\\nUAS_REL_ALT:['NULL']\\nUAS_ACT_ALT:['NULL']\\nAC_ALT:['NULL']\\nAC_TYPE:['NULL']\\nAC_HEADING:['NULL']\\nFT_ID:['NULL']\\nFT_OPTOR:['NULL']\\nUAS_TYPE:['NULL']\\n END\"}, {'prompt': 'A / C: PISTN71 (H / K35R / L)\\n\\n###\\n\\n', 'completion': \" ATC_CITY:['NULL']\\nATC_STATE:['NULL']\\nICDT_DATE:['NULL']\\nICDT_TIME:['NULL']\\nICDT_LOC:['NULL']\\nUAS_COLOR:['NULL']\\nUAS_HEADING:['NULL']\\nUAS_SIZE:['NULL']\\nUAS_REL_ALT:['NULL']\\nUAS_ACT_ALT:['NULL']\\nAC_ALT:['NULL']\\nAC_TYPE:['K35R']\\nAC_HEADING:['NULL']\\nFT_ID:['PISTN71']\\nFT_OPTOR:['NULL']\\nUAS_TYPE:['NULL']\\n END\"}, {'prompt': 'Summary: PISTN71 WHILE ENROUTE FROM MCF TO CHS REPORTED A UAV AT AMG010030 FL300 ON A SOUTH EAST HEADING, NO EVASIVE ACTION TAKEN. UAV APPEARED TO BE 3 TO 4 METERS IN SIZE, BLACK AND WHITE IN COLOR. GA STATE POLICE TROOP I ADVISED (912-261-3990), DEN / ROC.\\n\\n###\\n\\n', 'completion': \" ATC_CITY:['NULL']\\nATC_STATE:['NULL']\\nICDT_DATE:['NULL']\\nICDT_TIME:['NULL']\\nICDT_LOC:['NULL']\\nUAS_COLOR:['BLACK','WHITE']\\nUAS_HEADING:['SOUTH EAST']\\nUAS_SIZE:['3 TO 4 METERS']\\nUAS_REL_ALT:['NULL']\\nUAS_ACT_ALT:['FL300']\\nAC_ALT:['NULL']\\nAC_TYPE:['NULL']\\nAC_HEADING:['MCF TO CHS']\\nFT_ID:['PISTN71']\\nFT_OPTOR:['NULL']\\nUAS_TYPE:['NULL']\\n END\"}, {'prompt': 'PRELIM INFO FROM FAA OPS: TOPEKA, KS / UAS INCIDENT / 1609C / KANSAS CITY ARTCC ADVISED SEAPORT 606, CESSNA C208, KANSAS CITY - SALINA, KS, REPORTED A DARK COLORED R / C TYPE UAS 500 FEET ABOVE THE ACFT WHILE WESTBOUND AT 6,000 FEET VCNTY OF TOPEKA.  NO EVASIVE ACTION TAKEN.  TOPEKA PD NOTIFIED.\\n\\n###\\n\\n', 'completion': \" ATC_CITY:['TOPEKA','KANSAS CITY']\\nATC_STATE:['KS']\\nICDT_DATE:['NULL']\\nICDT_TIME:['1609C']\\nICDT_LOC:['TOPEKA.']\\nUAS_COLOR:['DARK']\\nUAS_HEADING:['NULL']\\nUAS_SIZE:['NULL']\\nUAS_REL_ALT:['500 FEET ABOVE THE ACFT']\\nUAS_ACT_ALT:['NULL']\\nAC_ALT:['6,000 FEET']\\nAC_TYPE:['CESSNA C208']\\nAC_HEADING:['KANSAS CITY - SALINA, KS','WESTBOUND']\\nFT_ID:['SEAPORT 606']\\nFT_OPTOR:['NULL']\\nUAS_TYPE:['R / C TYPE']\\n END\"}, {'prompt': 'MOR Alert for ZKC\\n\\n###\\n\\n', 'completion': \" ATC_CITY:['NULL']\\nATC_STATE:['NULL']\\nICDT_DATE:['NULL']\\nICDT_TIME:['NULL']\\nICDT_LOC:['NULL']\\nUAS_COLOR:['NULL']\\nUAS_HEADING:['NULL']\\nUAS_SIZE:['NULL']\\nUAS_REL_ALT:['NULL']\\nUAS_ACT_ALT:['NULL']\\nAC_ALT:['NULL']\\nAC_TYPE:['NULL']\\nAC_HEADING:['NULL']\\nFT_ID:['NULL']\\nFT_OPTOR:['NULL']\\nUAS_TYPE:['NULL']\\n END\"}, {'prompt': 'Type: \\n\\n###\\n\\n', 'completion': \" ATC_CITY:['NULL']\\nATC_STATE:['NULL']\\nICDT_DATE:['NULL']\\nICDT_TIME:['NULL']\\nICDT_LOC:['NULL']\\nUAS_COLOR:['NULL']\\nUAS_HEADING:['NULL']\\nUAS_SIZE:['NULL']\\nUAS_REL_ALT:['NULL']\\nUAS_ACT_ALT:['NULL']\\nAC_ALT:['NULL']\\nAC_TYPE:['NULL']\\nAC_HEADING:['NULL']\\nFT_ID:['NULL']\\nFT_OPTOR:['NULL']\\nUAS_TYPE:['NULL']\\n END\"}, {'prompt': 'Date / Time: Oct 22, 2015 - 2040Z\\n\\n###\\n\\n', 'completion': \" ATC_CITY:['NULL']\\nATC_STATE:['NULL']\\nICDT_DATE:['Oct 22, 2015']\\nICDT_TIME:['2040Z']\\nICDT_LOC:['NULL']\\nUAS_COLOR:['NULL']\\nUAS_HEADING:['NULL']\\nUAS_SIZE:['NULL']\\nUAS_REL_ALT:['NULL']\\nUAS_ACT_ALT:['NULL']\\nAC_ALT:['NULL']\\nAC_TYPE:['NULL']\\nAC_HEADING:['NULL']\\nFT_ID:['NULL']\\nFT_OPTOR:['NULL']\\nUAS_TYPE:['NULL']\\n END\"}, {'prompt': 'A / C: SQH606 (208)\\n\\n###\\n\\n', 'completion': \" ATC_CITY:['NULL']\\nATC_STATE:['NULL']\\nICDT_DATE:['NULL']\\nICDT_TIME:['NULL']\\nICDT_LOC:['NULL']\\nUAS_COLOR:['NULL']\\nUAS_HEADING:['NULL']\\nUAS_SIZE:['NULL']\\nUAS_REL_ALT:['NULL']\\nUAS_ACT_ALT:['NULL']\\nAC_ALT:['NULL']\\nAC_TYPE:['NULL']\\nAC_HEADING:['NULL']\\nFT_ID:['SQH606']\\nFT_OPTOR:['NULL']\\nUAS_TYPE:['NULL']\\n END\"}, {'prompt': 'Summary: UAS event / 2040 / SQH606 REPORTED AT THE TOP259015, SQH606 WAS WEST BOUND AT 6000 AND COULD NOT DETERMINE DIRECTION OF UAS. UAS ALTITUDE IS ESTIMATED AT 6500, NO EVASIVE ACTION TAKEN. UAS WAS VERY LARGE AND DARK IN COLOR. WE NOTIFIED TOPEKA POLICE DEPT. \\n\\n###\\n\\n', 'completion': \" ATC_CITY:['NULL']\\nATC_STATE:['NULL']\\nICDT_DATE:['NULL']\\nICDT_TIME:['2040']\\nICDT_LOC:['NULL']\\nUAS_COLOR:['DARK']\\nUAS_HEADING:['NULL']\\nUAS_SIZE:['VERY LARGE']\\nUAS_REL_ALT:['NULL']\\nUAS_ACT_ALT:['6500']\\nAC_ALT:['6000']\\nAC_TYPE:['NULL']\\nAC_HEADING:['WEST BOUND']\\nFT_ID:['SQH606','SQH606']\\nFT_OPTOR:['NULL']\\nUAS_TYPE:['NULL']\\n END\"}, {'prompt': 'PRELIM INFO FROM FAA OPS: MACON, GA / UAS INCIDENT / 1657E / MACON ATCT ADVISED THAT HAWKER BEECHCRAFT BE35 PASSED A UAS ON HIS LEFT SIDE WHILE SOUTHBOUND AT 2,500 FEET JUST NORTH OF THE MEDICAL CENTER OF CENTRAL GEORGIA. UAS DESCRIBED AS  LIGHTED BLACK AND RED IN COLOR AND ABOUT 14 INCHES IN DIAMETER.  UNKN IF LEOS NOTIFIED. \\n\\n###\\n\\n', 'completion': \" ATC_CITY:['MACON']\\nATC_STATE:['GA','MACON']\\nICDT_DATE:['NULL']\\nICDT_TIME:['1657E']\\nICDT_LOC:['JUST NORTH OF THE MEDICAL CENTER OF CENTRAL GEORGIA.']\\nUAS_COLOR:['BLACK','RED']\\nUAS_SHAPE:['LIGHTED']\\nUAS_HEADING:['NULL']\\nUAS_SIZE:['ABOUT 14 INCHES IN DIAMETER.']\\nUAS_REL_ALT:['NULL']\\nUAS_ACT_ALT:['NULL']\\nAC_ALT:['2,500 FEET']\\nAC_TYPE:['HAWKER BEECHCRAFT','BE35']\\nAC_HEADING:['SOUTHBOUND']\\nFT_ID:['NULL']\\nFT_OPTOR:['NULL']\\n END\"}]\n"
     ]
    }
   ],
   "source": [
    "output_file = \"./annotations.jsonl\"\n",
    "tmp_file = \"./tmp.jsonl\"\n",
    "spacy_annotations = read_json_files(\"../data/sample/train/json/\")\n",
    "gpt_annotations = convert_to_gpt(spacy_annotations)\n",
    "\n",
    "write_to_file(gpt_annotations, tmp_file, output_file)"
   ]
  },
  {
   "cell_type": "code",
   "execution_count": null,
   "metadata": {},
   "outputs": [],
   "source": [
    "os.environ[\"OPENAI_API_KEY\"] = OPENAI_API_KEY\n",
    "!openai tools fine_tunes.prepare_data -f annotations.jsonl -q"
   ]
  }
 ],
 "metadata": {
  "kernelspec": {
   "display_name": "scu-GcmJu1Nh",
   "language": "python",
   "name": "python3"
  },
  "language_info": {
   "codemirror_mode": {
    "name": "ipython",
    "version": 3
   },
   "file_extension": ".py",
   "mimetype": "text/x-python",
   "name": "python",
   "nbconvert_exporter": "python",
   "pygments_lexer": "ipython3",
   "version": "3.9.16"
  },
  "orig_nbformat": 4
 },
 "nbformat": 4,
 "nbformat_minor": 2
}
